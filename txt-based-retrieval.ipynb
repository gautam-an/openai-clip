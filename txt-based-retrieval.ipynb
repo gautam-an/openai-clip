{
 "cells": [
  {
   "cell_type": "code",
   "execution_count": 15,
   "id": "2a552a33",
   "metadata": {},
   "outputs": [],
   "source": [
    "import pandas as pd \n",
    "import numpy as np\n",
    "import urllib.request\n",
    "from transformers import CLIPProcessor, CLIPModel\n",
    "\n",
    "from IPython.display import display, HTML\n",
    "import ipywidgets as widgets\n",
    "\n",
    "model = CLIPModel.from_pretrained(\"openai/clip-vit-base-patch32\")\n",
    "processor = CLIPProcessor.from_pretrained(\"openai/clip-vit-base-patch32\")"
   ]
  },
  {
   "cell_type": "code",
   "execution_count": null,
   "id": "7ab90cc5",
   "metadata": {},
   "outputs": [
    {
     "data": {
      "text/plain": [
       "('embeddings2.npy', <http.client.HTTPMessage at 0x32c4e2630>)"
      ]
     },
     "execution_count": 12,
     "metadata": {},
     "output_type": "execute_result"
    }
   ],
   "source": [
    "def compute_text_embeddings(list):\n",
    "    inputs = processor(text=list, return_tensors=\"pt\", padding=True)\n",
    "    return model.get_text_features(**inputs) #embeddings\n",
    "\n",
    "urllib.request.urlretrieve('https://huggingface.co/spaces/vivien/clip/raw/main/data.csv', 'data.csv')\n",
    "urllib.request.urlretrieve('https://huggingface.co/spaces/vivien/clip/raw/main/data2.csv', 'data2.csv')\n",
    "urllib.request.urlretrieve('https://huggingface.co/spaces/vivien/clip/resolve/main/embeddings-vit-base-patch32.npy', 'embeddings.npy')\n",
    "urllib.request.urlretrieve('https://huggingface.co/spaces/vivien/clip/resolve/main/embeddings2-vit-base-patch32.npy', 'embeddings2.npy')"
   ]
  },
  {
   "cell_type": "code",
   "execution_count": null,
   "id": "9ddbf700",
   "metadata": {},
   "outputs": [],
   "source": [
    "df = {0: pd.read_csv('data.csv'), 1: pd.read_csv('data2.csv')}\n",
    "embeddings = {0: np.load('embeddings.npy'), 1: np.load('embeddings2.npy')}\n",
    "for k in [0, 1]: # helps with cosine similarity\n",
    "  embeddings[k] = np.divide(embeddings[k], np.sqrt(np.sum(embeddings[k]**2, axis=1, keepdims=True)))\n",
    "source = {0: '\\nSource: Unsplash', 1: '\\nSource: The Movie Database (TMDB)'}\n",
    "\n",
    "def get_html(url_list, height=200):\n",
    "    html = \"<div style='margin-top: 20px; display: flex; flex-wrap: wrap; justify-content: space-evenly'>\"\n",
    "    for url, title, link in url_list:\n",
    "        html2 = f\"<img title='{title}' style='height: {height}px; margin-bottom: 10px' src='{url}'>\"\n",
    "        if len(link) > 0:\n",
    "            html2 = f\"<a href='{link}' target='_blank'>\" + html2 + \"</a>\"\n",
    "        html = html + html2\n",
    "    html += \"</div>\"\n",
    "    return html"
   ]
  },
  {
   "cell_type": "code",
   "execution_count": 17,
   "id": "8c220ba2",
   "metadata": {},
   "outputs": [
    {
     "data": {
      "application/vnd.jupyter.widget-view+json": {
       "model_id": "28bb16b031fa42acb1d54191a9a9ae83",
       "version_major": 2,
       "version_minor": 0
      },
      "text/plain": [
       "HBox(children=(Text(value='', layout=Layout(width='400px')), Button(description='Search', style=ButtonStyle())…"
      ]
     },
     "metadata": {},
     "output_type": "display_data"
    },
    {
     "data": {
      "application/vnd.jupyter.widget-view+json": {
       "model_id": "a71663c07b7c440483e51a67664366c1",
       "version_major": 2,
       "version_minor": 0
      },
      "text/plain": [
       "Output()"
      ]
     },
     "metadata": {},
     "output_type": "display_data"
    }
   ],
   "source": [
    "query = widgets.Text(layout=widgets.Layout(width='400px'))\n",
    "dataset =widgets.Dropdown(\n",
    "    options=['Unsplash', 'Movies'],\n",
    "    value='Unsplash'\n",
    ")\n",
    "button = widgets.Button(description=\"Search\")\n",
    "output = widgets.Output()\n",
    "\n",
    "display(widgets.HBox([query, button, dataset],\n",
    "                     layout=widgets.Layout(justify_content='center')),\n",
    "        output)\n",
    "\n",
    "def image_search(query, n_results=24):\n",
    "    text_embeddings = compute_text_embeddings([query]).detach().numpy()\n",
    "    k = 0 if dataset.value == 'Unsplash' else 1\n",
    "    results = np.argsort((embeddings[k]@text_embeddings.T)[:, 0])[-1:-n_results-1:-1]\n",
    "    return [(df[k].iloc[i]['path'],\n",
    "             df[k].iloc[i]['tooltip'] + source[k],\n",
    "             df[k].iloc[i]['link']) for i in results]\n",
    "\n",
    "def on_button_clicked(b):\n",
    "    if len(query.value) > 0:\n",
    "        results = image_search(query.value)\n",
    "        output.clear_output()\n",
    "        with output:\n",
    "            display(HTML(get_html(results)))\n",
    "\n",
    "button.on_click(on_button_clicked)\n",
    "dataset.observe(on_button_clicked, names='value')"
   ]
  }
 ],
 "metadata": {
  "kernelspec": {
   "display_name": "base",
   "language": "python",
   "name": "python3"
  },
  "language_info": {
   "codemirror_mode": {
    "name": "ipython",
    "version": 3
   },
   "file_extension": ".py",
   "mimetype": "text/x-python",
   "name": "python",
   "nbconvert_exporter": "python",
   "pygments_lexer": "ipython3",
   "version": "3.12.7"
  }
 },
 "nbformat": 4,
 "nbformat_minor": 5
}
